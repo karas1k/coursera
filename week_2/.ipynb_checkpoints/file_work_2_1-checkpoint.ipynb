{
 "cells": [
  {
   "cell_type": "code",
   "execution_count": 3,
   "metadata": {},
   "outputs": [],
   "source": [
    "import re\n",
    "import numpy as np\n",
    "from scipy.spatial import *"
   ]
  },
  {
   "cell_type": "markdown",
   "metadata": {},
   "source": [
    "###### Откроем исходный файл для чтения"
   ]
  },
  {
   "cell_type": "code",
   "execution_count": 4,
   "metadata": {},
   "outputs": [],
   "source": [
    "file_text = open('sentences.txt', 'r')"
   ]
  },
  {
   "cell_type": "markdown",
   "metadata": {},
   "source": [
    "###### Создадим пустой массив, в который запишем строки в виде массива, предварительно очистив их от ненужных символов и приведя текст к нижнему регистру"
   ]
  },
  {
   "cell_type": "code",
   "execution_count": 5,
   "metadata": {},
   "outputs": [],
   "source": [
    "\n",
    "my_arr = [] #итоговый массив в котором будет массив строк\n",
    "for line in file_text:\n",
    "    result = re.split('[^a-z]', line.lower()) # очистим от ненужных символов и приведем текст к нижнему регистру\n",
    "    sub_arr = [] #в этот новый массив будем собирать то что нам нужно\n",
    "    for el in result:\n",
    "        if el !='':  #если el не равна ''\n",
    "            sub_arr.append(el) # То добавим el к строчному массиву\n",
    "    my_arr.append(sub_arr) # Добавим в итоговый массив каждую строку в виде массива\n",
    "#print(my_arr)"
   ]
  },
  {
   "cell_type": "markdown",
   "metadata": {},
   "source": [
    "###### Создадим словарь"
   ]
  },
  {
   "cell_type": "code",
   "execution_count": 8,
   "metadata": {},
   "outputs": [],
   "source": [
    "my_dict = {} # итоговый словарь в который будем собирать слово + индекс\n",
    "index = 0 # начальный очетчик индексов\n",
    "for element in my_arr: # делаем цил по нашему массиву, вычленяем каждую строку со словами из массива my_arr\n",
    "    for i in element: # делаем цикл в цикле, вычленяем каждое слово i в каждой строке element\n",
    "        if i not in my_dict: # если слова i нет в пустом словаре, то \n",
    "            my_dict[i] = index # приравниваем это слово к счетчику\n",
    "            index += 1 # добавляем к счетчику +1 с каждым словом\n",
    "#print(my_dict)"
   ]
  },
  {
   "cell_type": "code",
   "execution_count": 102,
   "metadata": {},
   "outputs": [],
   "source": [
    "Str = 22 # создадим переменную равную количеству предложений (строк)\n",
    "words = len(my_dict) # создадим переменную равную количеству слов в словаре\n",
    "m = [[0]*words for i in range(Str)] # создадим матрицу 22*254"
   ]
  },
  {
   "cell_type": "code",
   "execution_count": 103,
   "metadata": {},
   "outputs": [],
   "source": [
    "#print(m)"
   ]
  },
  {
   "cell_type": "code",
   "execution_count": 104,
   "metadata": {},
   "outputs": [],
   "source": [
    "for i in range(22): # делаем цикл в диапазоне от 0 до 22\n",
    "    for k in my_dict: # делаем цикл в цикле по словарю\n",
    "        for j in range(len(my_arr[i])): # цикл для элементов в строках массива\n",
    "            if my_arr[i][j] == k:       # элементы (слова) в массиве совпадают с элементами в словаре, то\n",
    "                m[i][my_dict[k]] += 1 # \n",
    "#print(m)"
   ]
  },
  {
   "cell_type": "code",
   "execution_count": 105,
   "metadata": {},
   "outputs": [
    {
     "name": "stdout",
     "output_type": "stream",
     "text": [
      "[0.0, 0.9527544408738466, 0.8644738145642124, 0.8951715163278082, 0.7770887149698589, 0.9402385695332803, 0.7327387580875756, 0.9258750683338899, 0.8842724875284311, 0.9055088817476932, 0.8328165362273942, 0.8804771390665607, 0.8396432548525454, 0.8703592552895671, 0.8740118423302576, 0.9442721787424647, 0.8406361854220809, 0.956644501523794, 0.9442721787424647, 0.8885443574849294, 0.8427572744917122, 0.8250364469440588]\n"
     ]
    }
   ],
   "source": [
    "dist = [] # Создадим пустой список\n",
    "for i in range(22): \n",
    "    dist.append(distance.cosine(m[0], m[i]))# находим косинусное расстояние от предложения в самой первой строке до всех остальных\n",
    "print(dist) # элемент 0.0 - наше первое предложение и расстояние от него до него самого"
   ]
  },
  {
   "cell_type": "code",
   "execution_count": 106,
   "metadata": {},
   "outputs": [
    {
     "name": "stdout",
     "output_type": "stream",
     "text": [
      "6\n"
     ]
    }
   ],
   "source": [
    "k1 = 1\n",
    "n1 = 0 # счетчик предложений\n",
    "for j in range(1, len(dist)):\n",
    "    if dist[j] < k1:\n",
    "        k1 = dist[j]\n",
    "        n1 = j\n",
    "print(n1)"
   ]
  },
  {
   "cell_type": "code",
   "execution_count": 107,
   "metadata": {},
   "outputs": [
    {
     "name": "stdout",
     "output_type": "stream",
     "text": [
      "4\n"
     ]
    }
   ],
   "source": [
    "k2 = 1\n",
    "n2 = 0 # счетчик предложений\n",
    "for j in range(1, len(dist)):\n",
    "    if dist[j] < k2 and j != n1:\n",
    "        k2 = dist[j]\n",
    "        n2 = j\n",
    "print(n2)"
   ]
  },
  {
   "cell_type": "code",
   "execution_count": 109,
   "metadata": {},
   "outputs": [
    {
     "name": "stdout",
     "output_type": "stream",
     "text": [
      "Ответ: строки 6 4 ближе всего по смыслу к самой первой строке.\n"
     ]
    }
   ],
   "source": [
    "file_text_2 = open('Answer.txt', 'w')\n",
    "l = str(n1)+' '+str(n2)\n",
    "file_text_2.write(l)\n",
    "print('Ответ: строки ' +l+ ' ближе всего по смыслу к самой первой строке.' )"
   ]
  },
  {
   "cell_type": "code",
   "execution_count": 111,
   "metadata": {},
   "outputs": [
    {
     "name": "stdout",
     "output_type": "stream",
     "text": [
      "6 4"
     ]
    }
   ],
   "source": [
    "!cat Answer.txt"
   ]
  },
  {
   "cell_type": "code",
   "execution_count": null,
   "metadata": {},
   "outputs": [],
   "source": []
  }
 ],
 "metadata": {
  "kernelspec": {
   "display_name": "Python 3",
   "language": "python",
   "name": "python3"
  },
  "language_info": {
   "codemirror_mode": {
    "name": "ipython",
    "version": 3
   },
   "file_extension": ".py",
   "mimetype": "text/x-python",
   "name": "python",
   "nbconvert_exporter": "python",
   "pygments_lexer": "ipython3",
   "version": "3.7.0"
  }
 },
 "nbformat": 4,
 "nbformat_minor": 2
}
